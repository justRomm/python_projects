{
 "cells": [
  {
   "attachments": {},
   "cell_type": "markdown",
   "metadata": {},
   "source": [
    "Importing important modules"
   ]
  },
  {
   "cell_type": "code",
   "execution_count": 1,
   "metadata": {},
   "outputs": [],
   "source": [
    "import pandas as pd\n",
    "import numpy as np\n",
    "import matplotlib.pyplot as plt\n",
    "import seaborn as sns\n",
    "from sklearn.feature_selection import SelectKBest\n",
    "from sklearn.feature_selection import mutual_info_regression\n",
    "from sklearn.metrics import mean_squared_error\n",
    "from sklearn.model_selection import train_test_split\n",
    "from sklearn.ensemble import RandomForestRegressor"
   ]
  },
  {
   "attachments": {},
   "cell_type": "markdown",
   "metadata": {},
   "source": [
    "Loading and viewing data"
   ]
  },
  {
   "cell_type": "code",
   "execution_count": 2,
   "metadata": {},
   "outputs": [
    {
     "data": {
      "text/html": [
       "<div>\n",
       "<style scoped>\n",
       "    .dataframe tbody tr th:only-of-type {\n",
       "        vertical-align: middle;\n",
       "    }\n",
       "\n",
       "    .dataframe tbody tr th {\n",
       "        vertical-align: top;\n",
       "    }\n",
       "\n",
       "    .dataframe thead th {\n",
       "        text-align: right;\n",
       "    }\n",
       "</style>\n",
       "<table border=\"1\" class=\"dataframe\">\n",
       "  <thead>\n",
       "    <tr style=\"text-align: right;\">\n",
       "      <th></th>\n",
       "      <th>0</th>\n",
       "      <th>1</th>\n",
       "      <th>2</th>\n",
       "      <th>3</th>\n",
       "      <th>4</th>\n",
       "      <th>5</th>\n",
       "      <th>6</th>\n",
       "      <th>7</th>\n",
       "      <th>8</th>\n",
       "      <th>9</th>\n",
       "      <th>...</th>\n",
       "      <th>44</th>\n",
       "      <th>45</th>\n",
       "      <th>46</th>\n",
       "      <th>47</th>\n",
       "      <th>48</th>\n",
       "      <th>49</th>\n",
       "      <th>50</th>\n",
       "      <th>51</th>\n",
       "      <th>52</th>\n",
       "      <th>target</th>\n",
       "    </tr>\n",
       "  </thead>\n",
       "  <tbody>\n",
       "    <tr>\n",
       "      <th>0</th>\n",
       "      <td>236</td>\n",
       "      <td>488</td>\n",
       "      <td>16</td>\n",
       "      <td>221</td>\n",
       "      <td>382</td>\n",
       "      <td>97</td>\n",
       "      <td>-4.472136</td>\n",
       "      <td>0.107472</td>\n",
       "      <td>0</td>\n",
       "      <td>132</td>\n",
       "      <td>...</td>\n",
       "      <td>13.340874</td>\n",
       "      <td>0.870542</td>\n",
       "      <td>1.962937</td>\n",
       "      <td>7.466666</td>\n",
       "      <td>11.547794</td>\n",
       "      <td>8.822916</td>\n",
       "      <td>9.046424</td>\n",
       "      <td>7.895535</td>\n",
       "      <td>11.010677</td>\n",
       "      <td>20.107472</td>\n",
       "    </tr>\n",
       "    <tr>\n",
       "      <th>1</th>\n",
       "      <td>386</td>\n",
       "      <td>206</td>\n",
       "      <td>357</td>\n",
       "      <td>232</td>\n",
       "      <td>1</td>\n",
       "      <td>198</td>\n",
       "      <td>7.810250</td>\n",
       "      <td>0.763713</td>\n",
       "      <td>1</td>\n",
       "      <td>143</td>\n",
       "      <td>...</td>\n",
       "      <td>12.484882</td>\n",
       "      <td>7.168680</td>\n",
       "      <td>2.885415</td>\n",
       "      <td>12.413973</td>\n",
       "      <td>10.260494</td>\n",
       "      <td>10.091351</td>\n",
       "      <td>9.270888</td>\n",
       "      <td>3.173994</td>\n",
       "      <td>13.921871</td>\n",
       "      <td>61.763713</td>\n",
       "    </tr>\n",
       "    <tr>\n",
       "      <th>2</th>\n",
       "      <td>429</td>\n",
       "      <td>49</td>\n",
       "      <td>481</td>\n",
       "      <td>111</td>\n",
       "      <td>111</td>\n",
       "      <td>146</td>\n",
       "      <td>8.602325</td>\n",
       "      <td>0.651162</td>\n",
       "      <td>1</td>\n",
       "      <td>430</td>\n",
       "      <td>...</td>\n",
       "      <td>14.030257</td>\n",
       "      <td>0.394970</td>\n",
       "      <td>8.160625</td>\n",
       "      <td>12.592059</td>\n",
       "      <td>8.937577</td>\n",
       "      <td>2.265191</td>\n",
       "      <td>11.255721</td>\n",
       "      <td>12.794841</td>\n",
       "      <td>12.080951</td>\n",
       "      <td>74.651162</td>\n",
       "    </tr>\n",
       "    <tr>\n",
       "      <th>3</th>\n",
       "      <td>414</td>\n",
       "      <td>350</td>\n",
       "      <td>481</td>\n",
       "      <td>370</td>\n",
       "      <td>208</td>\n",
       "      <td>158</td>\n",
       "      <td>8.306624</td>\n",
       "      <td>0.424645</td>\n",
       "      <td>1</td>\n",
       "      <td>340</td>\n",
       "      <td>...</td>\n",
       "      <td>2.789577</td>\n",
       "      <td>6.416708</td>\n",
       "      <td>10.549814</td>\n",
       "      <td>11.456437</td>\n",
       "      <td>6.468099</td>\n",
       "      <td>2.519049</td>\n",
       "      <td>0.258284</td>\n",
       "      <td>9.317696</td>\n",
       "      <td>5.383098</td>\n",
       "      <td>69.424645</td>\n",
       "    </tr>\n",
       "    <tr>\n",
       "      <th>4</th>\n",
       "      <td>318</td>\n",
       "      <td>359</td>\n",
       "      <td>20</td>\n",
       "      <td>218</td>\n",
       "      <td>317</td>\n",
       "      <td>301</td>\n",
       "      <td>8.124038</td>\n",
       "      <td>0.767304</td>\n",
       "      <td>1</td>\n",
       "      <td>212</td>\n",
       "      <td>...</td>\n",
       "      <td>1.886560</td>\n",
       "      <td>1.919999</td>\n",
       "      <td>2.268203</td>\n",
       "      <td>0.149421</td>\n",
       "      <td>4.105907</td>\n",
       "      <td>10.416291</td>\n",
       "      <td>6.816217</td>\n",
       "      <td>8.586960</td>\n",
       "      <td>4.512419</td>\n",
       "      <td>66.767304</td>\n",
       "    </tr>\n",
       "  </tbody>\n",
       "</table>\n",
       "<p>5 rows × 54 columns</p>\n",
       "</div>"
      ],
      "text/plain": [
       "     0    1    2    3    4    5         6         7  8    9  ...         44  \\\n",
       "0  236  488   16  221  382   97 -4.472136  0.107472  0  132  ...  13.340874   \n",
       "1  386  206  357  232    1  198  7.810250  0.763713  1  143  ...  12.484882   \n",
       "2  429   49  481  111  111  146  8.602325  0.651162  1  430  ...  14.030257   \n",
       "3  414  350  481  370  208  158  8.306624  0.424645  1  340  ...   2.789577   \n",
       "4  318  359   20  218  317  301  8.124038  0.767304  1  212  ...   1.886560   \n",
       "\n",
       "         45         46         47         48         49         50         51  \\\n",
       "0  0.870542   1.962937   7.466666  11.547794   8.822916   9.046424   7.895535   \n",
       "1  7.168680   2.885415  12.413973  10.260494  10.091351   9.270888   3.173994   \n",
       "2  0.394970   8.160625  12.592059   8.937577   2.265191  11.255721  12.794841   \n",
       "3  6.416708  10.549814  11.456437   6.468099   2.519049   0.258284   9.317696   \n",
       "4  1.919999   2.268203   0.149421   4.105907  10.416291   6.816217   8.586960   \n",
       "\n",
       "          52     target  \n",
       "0  11.010677  20.107472  \n",
       "1  13.921871  61.763713  \n",
       "2  12.080951  74.651162  \n",
       "3   5.383098  69.424645  \n",
       "4   4.512419  66.767304  \n",
       "\n",
       "[5 rows x 54 columns]"
      ]
     },
     "execution_count": 2,
     "metadata": {},
     "output_type": "execute_result"
    }
   ],
   "source": [
    "df = pd.read_csv('internship_train.csv') \n",
    "df.head()"
   ]
  },
  {
   "cell_type": "code",
   "execution_count": 3,
   "metadata": {},
   "outputs": [
    {
     "data": {
      "text/html": [
       "<div>\n",
       "<style scoped>\n",
       "    .dataframe tbody tr th:only-of-type {\n",
       "        vertical-align: middle;\n",
       "    }\n",
       "\n",
       "    .dataframe tbody tr th {\n",
       "        vertical-align: top;\n",
       "    }\n",
       "\n",
       "    .dataframe thead th {\n",
       "        text-align: right;\n",
       "    }\n",
       "</style>\n",
       "<table border=\"1\" class=\"dataframe\">\n",
       "  <thead>\n",
       "    <tr style=\"text-align: right;\">\n",
       "      <th></th>\n",
       "      <th>0</th>\n",
       "      <th>1</th>\n",
       "      <th>2</th>\n",
       "      <th>3</th>\n",
       "      <th>4</th>\n",
       "      <th>5</th>\n",
       "      <th>6</th>\n",
       "      <th>7</th>\n",
       "      <th>8</th>\n",
       "      <th>9</th>\n",
       "      <th>...</th>\n",
       "      <th>43</th>\n",
       "      <th>44</th>\n",
       "      <th>45</th>\n",
       "      <th>46</th>\n",
       "      <th>47</th>\n",
       "      <th>48</th>\n",
       "      <th>49</th>\n",
       "      <th>50</th>\n",
       "      <th>51</th>\n",
       "      <th>52</th>\n",
       "    </tr>\n",
       "  </thead>\n",
       "  <tbody>\n",
       "    <tr>\n",
       "      <th>0</th>\n",
       "      <td>259</td>\n",
       "      <td>388</td>\n",
       "      <td>402</td>\n",
       "      <td>340</td>\n",
       "      <td>156</td>\n",
       "      <td>382</td>\n",
       "      <td>3.316625</td>\n",
       "      <td>0.218760</td>\n",
       "      <td>1</td>\n",
       "      <td>164</td>\n",
       "      <td>...</td>\n",
       "      <td>7.163474</td>\n",
       "      <td>10.227235</td>\n",
       "      <td>0.889111</td>\n",
       "      <td>9.190222</td>\n",
       "      <td>4.670908</td>\n",
       "      <td>0.931525</td>\n",
       "      <td>7.634177</td>\n",
       "      <td>0.158196</td>\n",
       "      <td>13.432551</td>\n",
       "      <td>2.511191</td>\n",
       "    </tr>\n",
       "    <tr>\n",
       "      <th>1</th>\n",
       "      <td>441</td>\n",
       "      <td>192</td>\n",
       "      <td>381</td>\n",
       "      <td>421</td>\n",
       "      <td>452</td>\n",
       "      <td>123</td>\n",
       "      <td>-8.888194</td>\n",
       "      <td>0.700228</td>\n",
       "      <td>0</td>\n",
       "      <td>349</td>\n",
       "      <td>...</td>\n",
       "      <td>10.619064</td>\n",
       "      <td>9.339161</td>\n",
       "      <td>4.221861</td>\n",
       "      <td>0.595563</td>\n",
       "      <td>13.865748</td>\n",
       "      <td>0.328453</td>\n",
       "      <td>11.507599</td>\n",
       "      <td>9.107966</td>\n",
       "      <td>1.302407</td>\n",
       "      <td>11.105604</td>\n",
       "    </tr>\n",
       "    <tr>\n",
       "      <th>2</th>\n",
       "      <td>83</td>\n",
       "      <td>129</td>\n",
       "      <td>107</td>\n",
       "      <td>156</td>\n",
       "      <td>247</td>\n",
       "      <td>191</td>\n",
       "      <td>2.645751</td>\n",
       "      <td>0.494556</td>\n",
       "      <td>1</td>\n",
       "      <td>297</td>\n",
       "      <td>...</td>\n",
       "      <td>1.819890</td>\n",
       "      <td>10.670237</td>\n",
       "      <td>10.350867</td>\n",
       "      <td>5.134417</td>\n",
       "      <td>5.898995</td>\n",
       "      <td>8.374986</td>\n",
       "      <td>4.638049</td>\n",
       "      <td>3.160023</td>\n",
       "      <td>2.243799</td>\n",
       "      <td>5.073030</td>\n",
       "    </tr>\n",
       "    <tr>\n",
       "      <th>3</th>\n",
       "      <td>183</td>\n",
       "      <td>438</td>\n",
       "      <td>191</td>\n",
       "      <td>116</td>\n",
       "      <td>491</td>\n",
       "      <td>403</td>\n",
       "      <td>-6.164414</td>\n",
       "      <td>0.511117</td>\n",
       "      <td>0</td>\n",
       "      <td>272</td>\n",
       "      <td>...</td>\n",
       "      <td>4.168135</td>\n",
       "      <td>12.782579</td>\n",
       "      <td>0.513072</td>\n",
       "      <td>0.321295</td>\n",
       "      <td>11.334062</td>\n",
       "      <td>11.735511</td>\n",
       "      <td>1.911520</td>\n",
       "      <td>8.365676</td>\n",
       "      <td>4.877288</td>\n",
       "      <td>11.601819</td>\n",
       "    </tr>\n",
       "    <tr>\n",
       "      <th>4</th>\n",
       "      <td>449</td>\n",
       "      <td>156</td>\n",
       "      <td>310</td>\n",
       "      <td>188</td>\n",
       "      <td>279</td>\n",
       "      <td>465</td>\n",
       "      <td>8.000000</td>\n",
       "      <td>0.756416</td>\n",
       "      <td>1</td>\n",
       "      <td>90</td>\n",
       "      <td>...</td>\n",
       "      <td>7.908122</td>\n",
       "      <td>1.140498</td>\n",
       "      <td>14.165074</td>\n",
       "      <td>7.688796</td>\n",
       "      <td>5.079241</td>\n",
       "      <td>8.152186</td>\n",
       "      <td>1.680403</td>\n",
       "      <td>13.215111</td>\n",
       "      <td>5.823109</td>\n",
       "      <td>1.038015</td>\n",
       "    </tr>\n",
       "  </tbody>\n",
       "</table>\n",
       "<p>5 rows × 53 columns</p>\n",
       "</div>"
      ],
      "text/plain": [
       "     0    1    2    3    4    5         6         7  8    9  ...         43  \\\n",
       "0  259  388  402  340  156  382  3.316625  0.218760  1  164  ...   7.163474   \n",
       "1  441  192  381  421  452  123 -8.888194  0.700228  0  349  ...  10.619064   \n",
       "2   83  129  107  156  247  191  2.645751  0.494556  1  297  ...   1.819890   \n",
       "3  183  438  191  116  491  403 -6.164414  0.511117  0  272  ...   4.168135   \n",
       "4  449  156  310  188  279  465  8.000000  0.756416  1   90  ...   7.908122   \n",
       "\n",
       "          44         45        46         47         48         49         50  \\\n",
       "0  10.227235   0.889111  9.190222   4.670908   0.931525   7.634177   0.158196   \n",
       "1   9.339161   4.221861  0.595563  13.865748   0.328453  11.507599   9.107966   \n",
       "2  10.670237  10.350867  5.134417   5.898995   8.374986   4.638049   3.160023   \n",
       "3  12.782579   0.513072  0.321295  11.334062  11.735511   1.911520   8.365676   \n",
       "4   1.140498  14.165074  7.688796   5.079241   8.152186   1.680403  13.215111   \n",
       "\n",
       "          51         52  \n",
       "0  13.432551   2.511191  \n",
       "1   1.302407  11.105604  \n",
       "2   2.243799   5.073030  \n",
       "3   4.877288  11.601819  \n",
       "4   5.823109   1.038015  \n",
       "\n",
       "[5 rows x 53 columns]"
      ]
     },
     "execution_count": 3,
     "metadata": {},
     "output_type": "execute_result"
    }
   ],
   "source": [
    "df_test = pd.read_csv('internship_hidden_test.csv') \n",
    "df_test.head()"
   ]
  },
  {
   "cell_type": "code",
   "execution_count": 4,
   "metadata": {},
   "outputs": [
    {
     "data": {
      "text/plain": [
       "array([dtype('int64'), dtype('float64')], dtype=object)"
      ]
     },
     "execution_count": 4,
     "metadata": {},
     "output_type": "execute_result"
    }
   ],
   "source": [
    "df.dtypes.unique()"
   ]
  },
  {
   "attachments": {},
   "cell_type": "markdown",
   "metadata": {},
   "source": [
    "Ok, there is pretty much of data, so let's see if there is any correlation"
   ]
  },
  {
   "cell_type": "code",
   "execution_count": 5,
   "metadata": {},
   "outputs": [
    {
     "name": "stdout",
     "output_type": "stream",
     "text": [
      "max correlation =  0.012102971847687905\n",
      "min correlation =  -0.007215841356660186\n"
     ]
    }
   ],
   "source": [
    "print(\"max correlation = \", np.max(df.corr()['target'][:-2]))\n",
    "print(\"min correlation = \", np.min(df.corr()['target'][:-2]))"
   ]
  },
  {
   "attachments": {},
   "cell_type": "markdown",
   "metadata": {},
   "source": [
    "Unfortunately, none.\n",
    "\n",
    "Let's discover most mutuale features by SelectingKBest function"
   ]
  },
  {
   "cell_type": "code",
   "execution_count": 6,
   "metadata": {},
   "outputs": [
    {
     "data": {
      "text/html": [
       "<div>\n",
       "<style scoped>\n",
       "    .dataframe tbody tr th:only-of-type {\n",
       "        vertical-align: middle;\n",
       "    }\n",
       "\n",
       "    .dataframe tbody tr th {\n",
       "        vertical-align: top;\n",
       "    }\n",
       "\n",
       "    .dataframe thead th {\n",
       "        text-align: right;\n",
       "    }\n",
       "</style>\n",
       "<table border=\"1\" class=\"dataframe\">\n",
       "  <thead>\n",
       "    <tr style=\"text-align: right;\">\n",
       "      <th></th>\n",
       "      <th>Features</th>\n",
       "      <th>Score</th>\n",
       "    </tr>\n",
       "  </thead>\n",
       "  <tbody>\n",
       "    <tr>\n",
       "      <th>6</th>\n",
       "      <td>6</td>\n",
       "      <td>4.602137</td>\n",
       "    </tr>\n",
       "    <tr>\n",
       "      <th>7</th>\n",
       "      <td>7</td>\n",
       "      <td>1.274221</td>\n",
       "    </tr>\n",
       "    <tr>\n",
       "      <th>12</th>\n",
       "      <td>12</td>\n",
       "      <td>0.006779</td>\n",
       "    </tr>\n",
       "    <tr>\n",
       "      <th>29</th>\n",
       "      <td>29</td>\n",
       "      <td>0.005362</td>\n",
       "    </tr>\n",
       "    <tr>\n",
       "      <th>22</th>\n",
       "      <td>22</td>\n",
       "      <td>0.004538</td>\n",
       "    </tr>\n",
       "    <tr>\n",
       "      <th>23</th>\n",
       "      <td>23</td>\n",
       "      <td>0.004287</td>\n",
       "    </tr>\n",
       "    <tr>\n",
       "      <th>2</th>\n",
       "      <td>2</td>\n",
       "      <td>0.003428</td>\n",
       "    </tr>\n",
       "    <tr>\n",
       "      <th>28</th>\n",
       "      <td>28</td>\n",
       "      <td>0.003347</td>\n",
       "    </tr>\n",
       "    <tr>\n",
       "      <th>33</th>\n",
       "      <td>33</td>\n",
       "      <td>0.003322</td>\n",
       "    </tr>\n",
       "    <tr>\n",
       "      <th>0</th>\n",
       "      <td>0</td>\n",
       "      <td>0.002670</td>\n",
       "    </tr>\n",
       "  </tbody>\n",
       "</table>\n",
       "</div>"
      ],
      "text/plain": [
       "   Features     Score\n",
       "6         6  4.602137\n",
       "7         7  1.274221\n",
       "12       12  0.006779\n",
       "29       29  0.005362\n",
       "22       22  0.004538\n",
       "23       23  0.004287\n",
       "2         2  0.003428\n",
       "28       28  0.003347\n",
       "33       33  0.003322\n",
       "0         0  0.002670"
      ]
     },
     "execution_count": 6,
     "metadata": {},
     "output_type": "execute_result"
    }
   ],
   "source": [
    "X = df.drop('target', axis=1)\n",
    "Y = df['target']\n",
    "\n",
    "best_features= SelectKBest(score_func=mutual_info_regression, k='all')\n",
    "fit= best_features.fit(X,Y)\n",
    "\n",
    "df_scores= pd.DataFrame(fit.scores_)\n",
    "df_columns= pd.DataFrame(X.columns)\n",
    "\n",
    "features_scores= pd.concat([df_columns, df_scores], axis=1)\n",
    "features_scores.columns= ['Features', 'Score']\n",
    "features_scores.sort_values(by = 'Score', ascending=False)[:10]"
   ]
  },
  {
   "attachments": {},
   "cell_type": "markdown",
   "metadata": {},
   "source": [
    "Now we can see, that is some features are mutuale. \n",
    "\n",
    "Let's try use RandomForestRegressor with all of them, only first, two best and 3 best and compare the result"
   ]
  },
  {
   "cell_type": "code",
   "execution_count": 7,
   "metadata": {},
   "outputs": [
    {
     "name": "stdout",
     "output_type": "stream",
     "text": [
      "AVG MSE = 3.227771965119783\n",
      "AVG RMSE = 1.768880907214523\n"
     ]
    }
   ],
   "source": [
    "X_train, X_test, y_train, y_test = train_test_split(X, Y, test_size=0.4, random_state=None)\n",
    "my_rf = RandomForestRegressor(max_samples=100, n_estimators=300)\n",
    "mses=[]\n",
    "rmses=[]\n",
    "for _ in range(10):\n",
    "    my_rf.fit(X_train, y_train)\n",
    "    y_pred = my_rf.predict(X_test)\n",
    "    prediction = my_rf.predict(X_test)\n",
    "    mse = mean_squared_error(y_test, prediction)\n",
    "    rmse = mse**.5\n",
    "    mses.append(mse)\n",
    "    rmses.append(rmse)\n",
    "res_all = [np.average(mses),np.average(rmse)]\n",
    "print(f'AVG MSE = {res_all[0]}')\n",
    "print(f'AVG RMSE = {res_all[1]}')"
   ]
  },
  {
   "cell_type": "code",
   "execution_count": 8,
   "metadata": {},
   "outputs": [
    {
     "name": "stdout",
     "output_type": "stream",
     "text": [
      "AVG MSE = 0.19291321868612474\n",
      "AVG RMSE = 0.4392026582232281\n"
     ]
    }
   ],
   "source": [
    "x_best_1 = X[['6']]\n",
    "X_train, X_test, y_train, y_test = train_test_split(x_best_1, Y, test_size=0.4, random_state=None)\n",
    "my_rf_best_1 = RandomForestRegressor(max_samples=100, n_estimators=300)\n",
    "mses_best_1 = []\n",
    "rmses_best_1 = []\n",
    "for _ in range(10):\n",
    "    my_rf_best_1.fit(X_train, y_train)\n",
    "    y_pred = my_rf_best_1.predict(X_test)\n",
    "    prediction = my_rf_best_1.predict(X_test)\n",
    "    mse = mean_squared_error(y_test, prediction)\n",
    "    rmse = mse**.5\n",
    "    mses_best_1.append(mse)\n",
    "    rmses_best_1.append(rmse)\n",
    "res_best_1 = [np.average(mses_best_1), np.average(rmses_best_1)]\n",
    "print(f'AVG MSE = {res_best_1[0]}')\n",
    "print(f'AVG RMSE = {res_best_1[1]}')"
   ]
  },
  {
   "cell_type": "code",
   "execution_count": 9,
   "metadata": {},
   "outputs": [
    {
     "name": "stdout",
     "output_type": "stream",
     "text": [
      "AVG MSE = 0.2907048972122286\n",
      "AVG RMSE = 0.5390358405790688\n"
     ]
    }
   ],
   "source": [
    "x_best_2 = X[['6', '7']]\n",
    "X_train, X_test, y_train, y_test = train_test_split(x_best_2, Y, test_size=0.4, random_state=None)\n",
    "my_rf_best_2 = RandomForestRegressor(max_samples=100, n_estimators=300)\n",
    "mses_best_2 = []\n",
    "rmses_best_2 = []\n",
    "for _ in range(10):\n",
    "    my_rf_best_2.fit(X_train, y_train)\n",
    "    y_pred = my_rf_best_2.predict(X_test)\n",
    "    prediction = my_rf_best_2.predict(X_test)\n",
    "    mse = mean_squared_error(y_test, prediction)\n",
    "    rmse = mse**.5\n",
    "    mses_best_2.append(mse)\n",
    "    rmses_best_2.append(rmse)\n",
    "res_best_2 = [np.average(mses_best_2), np.average(rmses_best_2)]\n",
    "print(f'AVG MSE = {res_best_2[0]}')\n",
    "print(f'AVG RMSE = {res_best_2[1]}')"
   ]
  },
  {
   "cell_type": "code",
   "execution_count": 10,
   "metadata": {},
   "outputs": [
    {
     "name": "stdout",
     "output_type": "stream",
     "text": [
      "AVG MSE = 0.41666168084678334\n",
      "AVG RMSE = 0.6452924446403471\n"
     ]
    }
   ],
   "source": [
    "x_best_3 = X[['7','12','6']]\n",
    "X_train, X_test, y_train, y_test = train_test_split(x_best_3, Y, test_size=0.4, random_state=None)\n",
    "my_rf_best_3 = RandomForestRegressor(max_samples=100, n_estimators=300)\n",
    "mses_best_3 = []\n",
    "rmses_best_3 = []\n",
    "for _ in range(10):\n",
    "    my_rf_best_3.fit(X_train, y_train)\n",
    "    y_pred = my_rf_best_3.predict(X_test)\n",
    "    prediction = my_rf_best_3.predict(X_test)\n",
    "    mse = mean_squared_error(y_test, prediction)\n",
    "    rmse = mse**.5\n",
    "    mses_best_3.append(mse)\n",
    "    rmses_best_3.append(rmse)\n",
    "res_best_3 = [np.average(mses_best_3), np.average(rmses_best_3)]\n",
    "print(f'AVG MSE = {res_best_3[0]}')\n",
    "print(f'AVG RMSE = {res_best_3[1]}')"
   ]
  },
  {
   "cell_type": "code",
   "execution_count": 11,
   "metadata": {},
   "outputs": [
    {
     "data": {
      "image/png": "[encoded data removed]",
      "text/plain": [
       "<Figure size 640x480 with 1 Axes>"
      ]
     },
     "metadata": {},
     "output_type": "display_data"
    }
   ],
   "source": [
    "# plotting the results\n",
    "sns.set_style('darkgrid')\n",
    "sns.lineplot(x=[0,1,2,3],y=[res_all[0], res_best_1[0], res_best_2[0], res_best_3[0]], label='AVG MSE')\n",
    "sns.lineplot(x=[0,1,2,3],y=[res_all[1], res_best_1[1], res_best_2[1], res_best_3[1]], label='AVG RMSE')\n",
    "plt.show()"
   ]
  },
  {
   "attachments": {},
   "cell_type": "markdown",
   "metadata": {},
   "source": [
    "We can see, that current model gives quite accurate result, according to RMSE.\n",
    "\n",
    "The best result - with only 1 feature. This model can be ungerfitted and we can see, that the model with 2 features gives not much worse result.\n",
    "\n",
    "But underfitting can be dangerous for model performance. So let's save results for models with 1 and 2 features"
   ]
  },
  {
   "cell_type": "code",
   "execution_count": 12,
   "metadata": {},
   "outputs": [
    {
     "name": "stdout",
     "output_type": "stream",
     "text": [
      "[11.72928229 79.78864079  7.77408768 ... 22.70790171 16.79033508\n",
      " 91.92009234]\n"
     ]
    }
   ],
   "source": [
    "final_model = RandomForestRegressor(max_samples=100, n_estimators=300)\n",
    "final_model.fit(x_best_1, Y)\n",
    "prediction = final_model.predict(df_test[['6']])\n",
    "print(prediction)\n",
    "df_pred = pd.DataFrame(prediction)\n",
    "df_pred.to_csv(\"predictions_best_1.csv\")"
   ]
  },
  {
   "cell_type": "code",
   "execution_count": 13,
   "metadata": {},
   "outputs": [
    {
     "name": "stdout",
     "output_type": "stream",
     "text": [
      "[11.48466119 79.79188165  7.76291287 ... 22.41123442 16.78879498\n",
      " 91.96612107]\n"
     ]
    }
   ],
   "source": [
    "final_model = RandomForestRegressor(max_samples=100, n_estimators=300)\n",
    "final_model.fit(x_best_2, Y)\n",
    "prediction = final_model.predict(df_test[['6', '7']])\n",
    "print(prediction)\n",
    "df_pred = pd.DataFrame(prediction)\n",
    "df_pred.to_csv(\"predictions_best_2.csv\")"
   ]
  },
  {
   "attachments": {},
   "cell_type": "markdown",
   "metadata": {},
   "source": [
    "That's all\n",
    "\n",
    "Thank you for your attention"
   ]
  }
 ],
 "metadata": {
  "kernelspec": {
   "display_name": "venv",
   "language": "python",
   "name": "python3"
  },
  "language_info": {
   "codemirror_mode": {
    "name": "ipython",
    "version": 3
   },
   "file_extension": ".py",
   "mimetype": "text/x-python",
   "name": "python",
   "nbconvert_exporter": "python",
   "pygments_lexer": "ipython3",
   "version": "3.9.13"
  },
  "orig_nbformat": 4,
  "vscode": {
   "interpreter": {
    "hash": "ef0b06dd414098a36b6b1925db1ff7999e4ac27a51a32e2b8cbb168b73347cca"
   }
  }
 },
 "nbformat": 4,
 "nbformat_minor": 2
}
